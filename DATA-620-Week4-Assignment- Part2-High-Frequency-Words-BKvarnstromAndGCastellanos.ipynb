{
 "cells": [
  {
   "cell_type": "markdown",
   "id": "ba73f8dc",
   "metadata": {},
   "source": [
    "# Week 4 Assignment - Part 2 -  High Frequency Words\n",
    "\n",
    "Team: Beshkia Kvarnstrom and Gabriel Castellanos\n",
    "\n",
    "## INSTRUCTIONS\n",
    "Please answer the following questions in an IPython Notebook, posted to GitHub.\n",
    "\n",
    "1. Choose a corpus of interest.\n",
    "2. How many total unique words are in the corpus?  (Please feel free to define unique words in any interesting, defensible way). \n",
    "3. Taking the most common words, how many unique words represent half of the total words in the corpus? \n",
    "4. Identify the 200 highest frequency words in this corpus. \n",
    "5. Create a graph that shows the relative frequency of these 200 words. \n",
    "6. Does the observed relative frequency of these words follow Zipf’s law?  Explain. \n",
    "7. In what ways do you think the frequency of the words in this corpus differ from “all words in all corpora.”\n",
    "\n",
    "\n"
   ]
  },
  {
   "cell_type": "markdown",
   "id": "5c4f55d0",
   "metadata": {},
   "source": [
    "## DATASET\n",
    "\n",
    "The Dataset used in the analysis was taken from Kaggle and is a collection of tweets with the hashtag #chatgpt. The dataset portrays about the chatgpt language model, user shared experiences using chatgpt, or asking for help with chatgpt-related issues. This collection of tweets with the hashtag #chatgpt provides a glimpse into the online conversation surrounding OpenAI's AI language model, chatgpt.\n",
    "\n",
    "The Source of the data is: - https://www.kaggle.com/code/mpwolke/chatgpt-tweets/notebook\n",
    "\n"
   ]
  },
  {
   "cell_type": "code",
   "execution_count": 1,
   "id": "bc6c1064",
   "metadata": {},
   "outputs": [],
   "source": [
    "## Import the required libraries that will be used by the program\n",
    "import pandas as pd\n",
    "import re\n",
    "import matplotlib.pyplot as plt\n",
    "import plotly.express as px\n",
    "import math\n",
    "import squarify\n",
    "import nltk\n",
    "from nltk.probability import FreqDist\n",
    "from nltk.stem import WordNetLemmatizer\n",
    "from nltk.corpus import stopwords"
   ]
  },
  {
   "cell_type": "markdown",
   "id": "91bb2b7d",
   "metadata": {},
   "source": [
    "Let's start by loading the dataset and examining its contents."
   ]
  },
  {
   "cell_type": "code",
   "execution_count": 2,
   "id": "04c7e2fc",
   "metadata": {},
   "outputs": [],
   "source": [
    "# Load the dataset\n",
    "data = pd.read_csv('https://raw.githubusercontent.com/BeshkiaKvarnstrom/DATA-620-Web-Analytics-Assignments/main/Data/tweets.csv')\n"
   ]
  },
  {
   "cell_type": "code",
   "execution_count": 3,
   "id": "df7fbfe8",
   "metadata": {},
   "outputs": [
    {
     "name": "stdout",
     "output_type": "stream",
     "text": [
      "<class 'pandas.core.frame.DataFrame'>\n",
      "RangeIndex: 39054 entries, 0 to 39053\n",
      "Data columns (total 12 columns):\n",
      " #   Column            Non-Null Count  Dtype  \n",
      "---  ------            --------------  -----  \n",
      " 0   user_name         39054 non-null  object \n",
      " 1   text              39054 non-null  object \n",
      " 2   user_location     28870 non-null  object \n",
      " 3   user_description  36370 non-null  object \n",
      " 4   user_created      39053 non-null  object \n",
      " 5   user_followers    39053 non-null  float64\n",
      " 6   user_friends      39053 non-null  float64\n",
      " 7   user_favourites   39053 non-null  object \n",
      " 8   user_verified     39053 non-null  object \n",
      " 9   date              39053 non-null  object \n",
      " 10  hashtags          33005 non-null  object \n",
      " 11  source            39052 non-null  object \n",
      "dtypes: float64(2), object(10)\n",
      "memory usage: 3.6+ MB\n"
     ]
    }
   ],
   "source": [
    "# Display the column description\n",
    "data.info()"
   ]
  },
  {
   "cell_type": "code",
   "execution_count": 4,
   "id": "9af72a02",
   "metadata": {},
   "outputs": [
    {
     "data": {
      "text/html": [
       "<div>\n",
       "<style scoped>\n",
       "    .dataframe tbody tr th:only-of-type {\n",
       "        vertical-align: middle;\n",
       "    }\n",
       "\n",
       "    .dataframe tbody tr th {\n",
       "        vertical-align: top;\n",
       "    }\n",
       "\n",
       "    .dataframe thead th {\n",
       "        text-align: right;\n",
       "    }\n",
       "</style>\n",
       "<table border=\"1\" class=\"dataframe\">\n",
       "  <thead>\n",
       "    <tr style=\"text-align: right;\">\n",
       "      <th></th>\n",
       "      <th>user_name</th>\n",
       "      <th>text</th>\n",
       "      <th>user_location</th>\n",
       "      <th>user_description</th>\n",
       "      <th>user_created</th>\n",
       "      <th>user_followers</th>\n",
       "      <th>user_friends</th>\n",
       "      <th>user_favourites</th>\n",
       "      <th>user_verified</th>\n",
       "      <th>date</th>\n",
       "      <th>hashtags</th>\n",
       "      <th>source</th>\n",
       "    </tr>\n",
       "  </thead>\n",
       "  <tbody>\n",
       "    <tr>\n",
       "      <th>0</th>\n",
       "      <td>Tushar Gupta at DevFest Raipur.</td>\n",
       "      <td>Is this the end of Twitter threads?\\n#AI #Chat...</td>\n",
       "      <td>India</td>\n",
       "      <td>•Experiencing Life💬 &amp;&amp; Tech🥑 •Learning about💻:...</td>\n",
       "      <td>2021-10-05 05:05:55+00:00</td>\n",
       "      <td>230.0</td>\n",
       "      <td>438.0</td>\n",
       "      <td>1567</td>\n",
       "      <td>False</td>\n",
       "      <td>2022-12-20 13:29:08+00:00</td>\n",
       "      <td>['AI', 'ChatGPT']</td>\n",
       "      <td>Twitter for Android</td>\n",
       "    </tr>\n",
       "    <tr>\n",
       "      <th>1</th>\n",
       "      <td>PharmaTechnologyTrends</td>\n",
       "      <td>ChatGPT is a truly mind-blowing tool and playi...</td>\n",
       "      <td>Frankfurt am Main, Deutschland</td>\n",
       "      <td>Latest News and Trends in Pharmaceutical Industry</td>\n",
       "      <td>2022-11-06 21:03:59+00:00</td>\n",
       "      <td>264.0</td>\n",
       "      <td>4333.0</td>\n",
       "      <td>24</td>\n",
       "      <td>False</td>\n",
       "      <td>2022-12-20 13:28:50+00:00</td>\n",
       "      <td>NaN</td>\n",
       "      <td>EveryoneSocial</td>\n",
       "    </tr>\n",
       "    <tr>\n",
       "      <th>2</th>\n",
       "      <td>Richard Kim</td>\n",
       "      <td>#ChatGPT can be used to generate malicious cod...</td>\n",
       "      <td>NaN</td>\n",
       "      <td>News, papers, and books on AI, Machine Learnin...</td>\n",
       "      <td>2010-05-06 00:20:48+00:00</td>\n",
       "      <td>4481.0</td>\n",
       "      <td>4982.0</td>\n",
       "      <td>18412</td>\n",
       "      <td>False</td>\n",
       "      <td>2022-12-20 13:28:39+00:00</td>\n",
       "      <td>['ChatGPT', 'code', 'chatgpt', 'language', 'ai...</td>\n",
       "      <td>shem0304</td>\n",
       "    </tr>\n",
       "    <tr>\n",
       "      <th>3</th>\n",
       "      <td>GiamMa-based researchers SDR R&amp;D IoT</td>\n",
       "      <td>Use prompt hack to bypass OpenAI's content pol...</td>\n",
       "      <td>NaN</td>\n",
       "      <td>#ArtTechnology #IT #Hardware #Security #OSINT ...</td>\n",
       "      <td>2020-08-29 09:30:40+00:00</td>\n",
       "      <td>1996.0</td>\n",
       "      <td>1190.0</td>\n",
       "      <td>19528</td>\n",
       "      <td>False</td>\n",
       "      <td>2022-12-20 13:28:09+00:00</td>\n",
       "      <td>NaN</td>\n",
       "      <td>Twitter Web App</td>\n",
       "    </tr>\n",
       "    <tr>\n",
       "      <th>4</th>\n",
       "      <td>Bobby Davis, Jr.</td>\n",
       "      <td>Why #chatgpt will never replace devs. \\n\\nhttp...</td>\n",
       "      <td>North Carolina</td>\n",
       "      <td>CEO @CoderFoundry\\nAuthor: Breaking the Code h...</td>\n",
       "      <td>2012-06-25 17:36:19+00:00</td>\n",
       "      <td>1182.0</td>\n",
       "      <td>245.0</td>\n",
       "      <td>888</td>\n",
       "      <td>False</td>\n",
       "      <td>2022-12-20 13:27:10+00:00</td>\n",
       "      <td>['chatgpt']</td>\n",
       "      <td>Twitter for Android</td>\n",
       "    </tr>\n",
       "  </tbody>\n",
       "</table>\n",
       "</div>"
      ],
      "text/plain": [
       "                              user_name  \\\n",
       "0       Tushar Gupta at DevFest Raipur.   \n",
       "1                PharmaTechnologyTrends   \n",
       "2                           Richard Kim   \n",
       "3  GiamMa-based researchers SDR R&D IoT   \n",
       "4                      Bobby Davis, Jr.   \n",
       "\n",
       "                                                text  \\\n",
       "0  Is this the end of Twitter threads?\\n#AI #Chat...   \n",
       "1  ChatGPT is a truly mind-blowing tool and playi...   \n",
       "2  #ChatGPT can be used to generate malicious cod...   \n",
       "3  Use prompt hack to bypass OpenAI's content pol...   \n",
       "4  Why #chatgpt will never replace devs. \\n\\nhttp...   \n",
       "\n",
       "                    user_location  \\\n",
       "0                           India   \n",
       "1  Frankfurt am Main, Deutschland   \n",
       "2                             NaN   \n",
       "3                             NaN   \n",
       "4                  North Carolina   \n",
       "\n",
       "                                    user_description  \\\n",
       "0  •Experiencing Life💬 && Tech🥑 •Learning about💻:...   \n",
       "1  Latest News and Trends in Pharmaceutical Industry   \n",
       "2  News, papers, and books on AI, Machine Learnin...   \n",
       "3  #ArtTechnology #IT #Hardware #Security #OSINT ...   \n",
       "4  CEO @CoderFoundry\\nAuthor: Breaking the Code h...   \n",
       "\n",
       "                user_created  user_followers  user_friends user_favourites  \\\n",
       "0  2021-10-05 05:05:55+00:00           230.0         438.0            1567   \n",
       "1  2022-11-06 21:03:59+00:00           264.0        4333.0              24   \n",
       "2  2010-05-06 00:20:48+00:00          4481.0        4982.0           18412   \n",
       "3  2020-08-29 09:30:40+00:00          1996.0        1190.0           19528   \n",
       "4  2012-06-25 17:36:19+00:00          1182.0         245.0             888   \n",
       "\n",
       "  user_verified                       date  \\\n",
       "0         False  2022-12-20 13:29:08+00:00   \n",
       "1         False  2022-12-20 13:28:50+00:00   \n",
       "2         False  2022-12-20 13:28:39+00:00   \n",
       "3         False  2022-12-20 13:28:09+00:00   \n",
       "4         False  2022-12-20 13:27:10+00:00   \n",
       "\n",
       "                                            hashtags               source  \n",
       "0                                  ['AI', 'ChatGPT']  Twitter for Android  \n",
       "1                                                NaN       EveryoneSocial  \n",
       "2  ['ChatGPT', 'code', 'chatgpt', 'language', 'ai...             shem0304  \n",
       "3                                                NaN      Twitter Web App  \n",
       "4                                        ['chatgpt']  Twitter for Android  "
      ]
     },
     "execution_count": 4,
     "metadata": {},
     "output_type": "execute_result"
    }
   ],
   "source": [
    "# Display the first few rows of the dataset\n",
    "data.head()"
   ]
  },
  {
   "cell_type": "markdown",
   "id": "7c73ed8a",
   "metadata": {},
   "source": [
    "Now that we have the dataset loaded, we can proceed with the analysis.\n",
    "\n",
    "For this analysis, We will consider the \"text\" column from the dataset as our corpus.\n",
    "\n",
    "How many total unique words are in the corpus?\n",
    "To find the total number of unique words, we'll define a unique word as a lowercase alphanumeric string. We'll remove any punctuation or special characters, and consider only unique occurrences."
   ]
  },
  {
   "cell_type": "code",
   "execution_count": 5,
   "id": "1027f6a0",
   "metadata": {},
   "outputs": [],
   "source": [
    "\n",
    "# Combine all the tweets into a single string\n",
    "corpus = ' '.join(data['text'].dropna().astype(str))\n"
   ]
  },
  {
   "cell_type": "code",
   "execution_count": 6,
   "id": "bf903140",
   "metadata": {},
   "outputs": [],
   "source": [
    "\n",
    "def remove_line_breaks(text):\n",
    "    corpus = text.replace('\\r', ' ').replace('\\n', ' ')\n",
    "    return corpus\n",
    "\n",
    "#remove punctuation\n",
    "def remove_punctuation(corpus):\n",
    "    re_replacements = re.compile(\"__[A-Z]+__\")  # such as __NAME__, __LINK__\n",
    "    re_punctuation = re.compile(\"[%s]\" % re.escape(string.punctuation))\n",
    "    '''Escape all the characters in pattern except ASCII letters and numbers'''\n",
    "    tokens = word_tokenize(corpus)\n",
    "    tokens_zero_punctuation = []\n",
    "    for token in tokens:\n",
    "        if not re_replacements.match(token):\n",
    "            token = re_punctuation.sub(\" \", token)\n",
    "        tokens_zero_punctuation.append(token)\n",
    "    return ' '.join(tokens_zero_punctuation)\n",
    "\n",
    "# Remove stop words\n",
    "def remove_stopwords(corpus):\n",
    "    stop = set(stopwords.words('english'))\n",
    "    word_tokens = nltk.word_tokenize(corpus)\n",
    "    corpus = \" \".join([word for word in word_tokens if word not in stop])\n",
    "    return text\n",
    "\n",
    "# Remove words with only one character \n",
    "def remove_one_character_words(corpus):\n",
    "    '''Remove words from dataset that contain only 1 character'''\n",
    "    text_high_use = [token for token in word_tokenize(corpus) if len(token)>1]      \n",
    "    return ' '.join(text_high_use)   \n",
    "\n",
    "# lower case all the words\n",
    "def lowercase(corpus):\n",
    "    text_low = [token.lower() for token in word_tokenize(text)]\n",
    "    return ' '.join(text_low)\n",
    "\n",
    "# Clean the corpus by removing non-alphanumeric characters and converting to lowercase\n",
    "corpus_cleaned = re.sub(r'[^a-zA-Z0-9\\s]', '', corpus).lower()\n"
   ]
  },
  {
   "cell_type": "code",
   "execution_count": 7,
   "id": "1d9abf74",
   "metadata": {},
   "outputs": [],
   "source": [
    "# Split the corpus into words\n",
    "words = corpus_cleaned.split()\n",
    "\n",
    "# Count the number of unique words\n",
    "unique_words = set(words)\n",
    "total_unique_words = len(unique_words)"
   ]
  },
  {
   "cell_type": "code",
   "execution_count": 8,
   "id": "daf3b0f2",
   "metadata": {},
   "outputs": [
    {
     "name": "stdout",
     "output_type": "stream",
     "text": [
      "Total Unique Words :  71382\n",
      "Total Rows         :  39054\n",
      "Total Columns      :  12\n",
      "\n",
      "Features         : \n",
      " ['user_name', 'text', 'user_location', 'user_description', 'user_created', 'user_followers', 'user_friends', 'user_favourites', 'user_verified', 'date', 'hashtags', 'source']\n",
      "\n",
      "Missing values   :   18925\n",
      "\n",
      "Unique values    :  \n",
      " user_name           24961\n",
      "text                38901\n",
      "user_location        7838\n",
      "user_description    23700\n",
      "user_created        25349\n",
      "user_followers       6308\n",
      "user_friends         4369\n",
      "user_favourites     12564\n",
      "user_verified           3\n",
      "date                37719\n",
      "hashtags             7342\n",
      "source                226\n",
      "dtype: int64\n"
     ]
    }
   ],
   "source": [
    "# checking dataset\n",
    "print (\"Total Unique Words : \" ,total_unique_words)\n",
    "print (\"Total Rows         : \" ,data.shape[0])\n",
    "print (\"Total Columns      : \" ,data.shape[1])\n",
    "print (\"\\nFeatures         : \\n\" ,data.columns.tolist())\n",
    "print (\"\\nMissing values   :  \", data.isnull().sum().values.sum())\n",
    "print (\"\\nUnique values    :  \\n\",data.nunique())"
   ]
  },
  {
   "cell_type": "markdown",
   "id": "3c968278",
   "metadata": {},
   "source": [
    "Taking the most common words, how many unique words represent half of the total words in the corpus?"
   ]
  },
  {
   "cell_type": "code",
   "execution_count": 9,
   "id": "a57e511e",
   "metadata": {},
   "outputs": [
    {
     "name": "stdout",
     "output_type": "stream",
     "text": [
      "Total Unique Words that represent half of the total words in the corpus:  114\n"
     ]
    }
   ],
   "source": [
    "from collections import Counter\n",
    "\n",
    "# Count the frequency of each word\n",
    "word_counts = Counter(words)\n",
    "\n",
    "# Sort the words by frequency in descending order\n",
    "sorted_words = sorted(word_counts.items(), key=lambda x: x[1], reverse=True)\n",
    "\n",
    "# Calculate the cumulative sum of word frequencies\n",
    "cumulative_sum = 0\n",
    "half_total_words = len(words) / 2\n",
    "unique_words_half_total = 0\n",
    "\n",
    "for i, (word, count) in enumerate(sorted_words):\n",
    "    cumulative_sum += count\n",
    "    if cumulative_sum >= half_total_words:\n",
    "        unique_words_half_total = i + 1\n",
    "        break\n",
    "\n",
    "print (\"Total Unique Words that represent half of the total words in the corpus: \" ,unique_words_half_total) \n"
   ]
  },
  {
   "cell_type": "markdown",
   "id": "fe94a053",
   "metadata": {},
   "source": [
    "Identify the 200 highest frequency words in this corpus."
   ]
  },
  {
   "cell_type": "code",
   "execution_count": 10,
   "id": "c23cdbc8",
   "metadata": {},
   "outputs": [
    {
     "data": {
      "text/plain": [
       "[('chatgpt', 44710),\n",
       " ('the', 28261),\n",
       " ('to', 24421),\n",
       " ('a', 20760),\n",
       " ('and', 17404),\n",
       " ('is', 15160),\n",
       " ('it', 14065),\n",
       " ('of', 13962),\n",
       " ('i', 12948),\n",
       " ('ai', 11013),\n",
       " ('in', 9586),\n",
       " ('for', 9218),\n",
       " ('with', 7619),\n",
       " ('this', 7575),\n",
       " ('openai', 7023),\n",
       " ('you', 6607),\n",
       " ('that', 6157),\n",
       " ('on', 6009),\n",
       " ('about', 4870),\n",
       " ('be', 4722),\n",
       " ('its', 4573),\n",
       " ('can', 4443),\n",
       " ('what', 3981),\n",
       " ('my', 3966),\n",
       " ('are', 3882),\n",
       " ('but', 3813),\n",
       " ('by', 3792),\n",
       " ('how', 3750),\n",
       " ('will', 3599),\n",
       " ('not', 3593),\n",
       " ('an', 3427),\n",
       " ('have', 3422),\n",
       " ('just', 3411),\n",
       " ('me', 3327),\n",
       " ('as', 3248),\n",
       " ('we', 3108),\n",
       " ('from', 2935),\n",
       " ('like', 2864),\n",
       " ('so', 2719),\n",
       " ('asked', 2688),\n",
       " ('was', 2551),\n",
       " ('write', 2544),\n",
       " ('if', 2476),\n",
       " ('your', 2372),\n",
       " ('more', 2363),\n",
       " ('do', 2305),\n",
       " ('or', 2286),\n",
       " ('has', 2238),\n",
       " ('out', 2170),\n",
       " ('at', 2143),\n",
       " ('new', 2106),\n",
       " ('all', 2046),\n",
       " ('some', 1896),\n",
       " ('now', 1876),\n",
       " ('im', 1867),\n",
       " ('using', 1749),\n",
       " ('use', 1724),\n",
       " ('one', 1721),\n",
       " ('google', 1665),\n",
       " ('good', 1533),\n",
       " ('get', 1526),\n",
       " ('time', 1517),\n",
       " ('think', 1487),\n",
       " ('when', 1458),\n",
       " ('here', 1427),\n",
       " ('code', 1420),\n",
       " ('up', 1407),\n",
       " ('our', 1391),\n",
       " ('would', 1389),\n",
       " ('people', 1323),\n",
       " ('see', 1312),\n",
       " ('make', 1306),\n",
       " ('know', 1299),\n",
       " ('answer', 1228),\n",
       " ('future', 1227),\n",
       " ('been', 1203),\n",
       " ('amp', 1184),\n",
       " ('they', 1171),\n",
       " ('questions', 1156),\n",
       " ('than', 1153),\n",
       " ('could', 1146),\n",
       " ('no', 1119),\n",
       " ('dont', 1082),\n",
       " ('ask', 1067),\n",
       " ('elonmusk', 1057),\n",
       " ('who', 1038),\n",
       " ('even', 1036),\n",
       " ('world', 1034),\n",
       " ('their', 1034),\n",
       " ('chatbot', 1029),\n",
       " ('artificialintelligence', 1015),\n",
       " ('why', 1009),\n",
       " ('work', 996),\n",
       " ('going', 974),\n",
       " ('very', 964),\n",
       " ('there', 961),\n",
       " ('well', 959),\n",
       " ('had', 959),\n",
       " ('also', 954),\n",
       " ('help', 943),\n",
       " ('way', 932),\n",
       " ('language', 927),\n",
       " ('better', 920),\n",
       " ('gpt', 918),\n",
       " ('am', 918),\n",
       " ('into', 916),\n",
       " ('question', 913),\n",
       " ('first', 907),\n",
       " ('really', 894),\n",
       " ('used', 880),\n",
       " ('human', 880),\n",
       " ('technology', 875),\n",
       " ('should', 874),\n",
       " ('only', 871),\n",
       " ('chat', 866),\n",
       " ('us', 862),\n",
       " ('need', 857),\n",
       " ('which', 847),\n",
       " ('writing', 842),\n",
       " ('create', 841),\n",
       " ('answers', 837),\n",
       " ('most', 830),\n",
       " ('does', 826),\n",
       " ('got', 820),\n",
       " ('great', 817),\n",
       " ('any', 813),\n",
       " ('did', 809),\n",
       " ('1', 808),\n",
       " ('still', 808),\n",
       " ('much', 806),\n",
       " ('tool', 790),\n",
       " ('gpt3', 787),\n",
       " ('content', 786),\n",
       " ('cant', 774),\n",
       " ('then', 773),\n",
       " ('were', 773),\n",
       " ('data', 764),\n",
       " ('take', 762),\n",
       " ('search', 760),\n",
       " ('amazing', 758),\n",
       " ('twitter', 757),\n",
       " ('many', 746),\n",
       " ('ive', 740),\n",
       " ('tried', 740),\n",
       " ('story', 735),\n",
       " ('try', 730),\n",
       " ('right', 728),\n",
       " ('over', 725),\n",
       " ('too', 722),\n",
       " ('model', 711),\n",
       " ('things', 694),\n",
       " ('tech', 690),\n",
       " ('say', 672),\n",
       " ('bot', 666),\n",
       " ('text', 663),\n",
       " ('best', 661),\n",
       " ('being', 653),\n",
       " ('interesting', 644),\n",
       " ('where', 635),\n",
       " ('lot', 631),\n",
       " ('something', 626),\n",
       " ('give', 625),\n",
       " ('today', 624),\n",
       " ('openais', 622),\n",
       " ('next', 622),\n",
       " ('other', 620),\n",
       " ('thing', 619),\n",
       " ('fun', 611),\n",
       " ('2', 602),\n",
       " ('pretty', 601),\n",
       " ('these', 597),\n",
       " ('made', 596),\n",
       " ('days', 595),\n",
       " ('prompt', 591),\n",
       " ('check', 585),\n",
       " ('game', 581),\n",
       " ('generate', 579),\n",
       " ('written', 574),\n",
       " ('learning', 573),\n",
       " ('them', 572),\n",
       " ('asking', 568),\n",
       " ('go', 567),\n",
       " ('come', 567),\n",
       " ('want', 564),\n",
       " ('generated', 564),\n",
       " ('love', 564),\n",
       " ('read', 562),\n",
       " ('few', 561),\n",
       " ('already', 557),\n",
       " ('heres', 556),\n",
       " ('after', 551),\n",
       " ('midjourney', 548),\n",
       " ('may', 548),\n",
       " ('intelligence', 544),\n",
       " ('years', 542),\n",
       " ('because', 541),\n",
       " ('day', 537),\n",
       " ('3', 532),\n",
       " ('conversation', 531),\n",
       " ('job', 527)]"
      ]
     },
     "execution_count": 10,
     "metadata": {},
     "output_type": "execute_result"
    }
   ],
   "source": [
    "top_200_words = sorted_words[:200]\n",
    "top_200_words\n"
   ]
  },
  {
   "cell_type": "markdown",
   "id": "d4a55b8a",
   "metadata": {},
   "source": [
    "Create a graph that shows the relative frequency of these 200 words."
   ]
  },
  {
   "cell_type": "code",
   "execution_count": 15,
   "id": "b801391f",
   "metadata": {},
   "outputs": [
    {
     "data": {
      "application/vnd.plotly.v1+json": {
       "config": {
        "plotlyServerURL": "https://plot.ly"
       },
       "data": [
        {
         "branchvalues": "total",
         "domain": {
          "x": [
           0,
           1
          ],
          "y": [
           0,
           1
          ]
         },
         "hovertemplate": "<b>%{label}</b><br>Count: %{value}",
         "ids": [
          "1",
          "2",
          "3",
          "a",
          "about",
          "after",
          "ai",
          "all",
          "already",
          "also",
          "am",
          "amazing",
          "amp",
          "an",
          "and",
          "answer",
          "answers",
          "any",
          "are",
          "artificialintelligence",
          "as",
          "ask",
          "asked",
          "asking",
          "at",
          "be",
          "because",
          "been",
          "being",
          "best",
          "better",
          "bot",
          "but",
          "by",
          "can",
          "cant",
          "chat",
          "chatbot",
          "chatgpt",
          "check",
          "code",
          "come",
          "content",
          "conversation",
          "could",
          "create",
          "data",
          "day",
          "days",
          "did",
          "do",
          "does",
          "dont",
          "elonmusk",
          "even",
          "few",
          "first",
          "for",
          "from",
          "fun",
          "future",
          "game",
          "generate",
          "generated",
          "get",
          "give",
          "go",
          "going",
          "good",
          "google",
          "got",
          "gpt",
          "gpt3",
          "great",
          "had",
          "has",
          "have",
          "help",
          "here",
          "heres",
          "how",
          "human",
          "i",
          "if",
          "im",
          "in",
          "intelligence",
          "interesting",
          "into",
          "is",
          "it",
          "its",
          "ive",
          "job",
          "just",
          "know",
          "language",
          "learning",
          "like",
          "lot",
          "love",
          "made",
          "make",
          "many",
          "may",
          "me",
          "midjourney",
          "model",
          "more",
          "most",
          "much",
          "my",
          "need",
          "new",
          "next",
          "no",
          "not",
          "now",
          "of",
          "on",
          "one",
          "only",
          "openai",
          "openais",
          "or",
          "other",
          "our",
          "out",
          "over",
          "people",
          "pretty",
          "prompt",
          "question",
          "questions",
          "read",
          "really",
          "right",
          "say",
          "search",
          "see",
          "should",
          "so",
          "some",
          "something",
          "still",
          "story",
          "take",
          "tech",
          "technology",
          "text",
          "than",
          "that",
          "the",
          "their",
          "them",
          "then",
          "there",
          "these",
          "they",
          "thing",
          "things",
          "think",
          "this",
          "time",
          "to",
          "today",
          "too",
          "tool",
          "tried",
          "try",
          "twitter",
          "up",
          "us",
          "use",
          "used",
          "using",
          "very",
          "want",
          "was",
          "way",
          "we",
          "well",
          "were",
          "what",
          "when",
          "where",
          "which",
          "who",
          "why",
          "will",
          "with",
          "work",
          "world",
          "would",
          "write",
          "writing",
          "written",
          "years",
          "you",
          "your"
         ],
         "labels": [
          "1",
          "2",
          "3",
          "a",
          "about",
          "after",
          "ai",
          "all",
          "already",
          "also",
          "am",
          "amazing",
          "amp",
          "an",
          "and",
          "answer",
          "answers",
          "any",
          "are",
          "artificialintelligence",
          "as",
          "ask",
          "asked",
          "asking",
          "at",
          "be",
          "because",
          "been",
          "being",
          "best",
          "better",
          "bot",
          "but",
          "by",
          "can",
          "cant",
          "chat",
          "chatbot",
          "chatgpt",
          "check",
          "code",
          "come",
          "content",
          "conversation",
          "could",
          "create",
          "data",
          "day",
          "days",
          "did",
          "do",
          "does",
          "dont",
          "elonmusk",
          "even",
          "few",
          "first",
          "for",
          "from",
          "fun",
          "future",
          "game",
          "generate",
          "generated",
          "get",
          "give",
          "go",
          "going",
          "good",
          "google",
          "got",
          "gpt",
          "gpt3",
          "great",
          "had",
          "has",
          "have",
          "help",
          "here",
          "heres",
          "how",
          "human",
          "i",
          "if",
          "im",
          "in",
          "intelligence",
          "interesting",
          "into",
          "is",
          "it",
          "its",
          "ive",
          "job",
          "just",
          "know",
          "language",
          "learning",
          "like",
          "lot",
          "love",
          "made",
          "make",
          "many",
          "may",
          "me",
          "midjourney",
          "model",
          "more",
          "most",
          "much",
          "my",
          "need",
          "new",
          "next",
          "no",
          "not",
          "now",
          "of",
          "on",
          "one",
          "only",
          "openai",
          "openais",
          "or",
          "other",
          "our",
          "out",
          "over",
          "people",
          "pretty",
          "prompt",
          "question",
          "questions",
          "read",
          "really",
          "right",
          "say",
          "search",
          "see",
          "should",
          "so",
          "some",
          "something",
          "still",
          "story",
          "take",
          "tech",
          "technology",
          "text",
          "than",
          "that",
          "the",
          "their",
          "them",
          "then",
          "there",
          "these",
          "they",
          "thing",
          "things",
          "think",
          "this",
          "time",
          "to",
          "today",
          "too",
          "tool",
          "tried",
          "try",
          "twitter",
          "up",
          "us",
          "use",
          "used",
          "using",
          "very",
          "want",
          "was",
          "way",
          "we",
          "well",
          "were",
          "what",
          "when",
          "where",
          "which",
          "who",
          "why",
          "will",
          "with",
          "work",
          "world",
          "would",
          "write",
          "writing",
          "written",
          "years",
          "you",
          "your"
         ],
         "marker": {
          "colorscale": [
           [
            0,
            "#440154"
           ],
           [
            0.1111111111111111,
            "#482878"
           ],
           [
            0.2222222222222222,
            "#3e4989"
           ],
           [
            0.3333333333333333,
            "#31688e"
           ],
           [
            0.4444444444444444,
            "#26828e"
           ],
           [
            0.5555555555555556,
            "#1f9e89"
           ],
           [
            0.6666666666666666,
            "#35b779"
           ],
           [
            0.7777777777777778,
            "#6ece58"
           ],
           [
            0.8888888888888888,
            "#b5de2b"
           ],
           [
            1,
            "#fde725"
           ]
          ]
         },
         "name": "",
         "parents": [
          "",
          "",
          "",
          "",
          "",
          "",
          "",
          "",
          "",
          "",
          "",
          "",
          "",
          "",
          "",
          "",
          "",
          "",
          "",
          "",
          "",
          "",
          "",
          "",
          "",
          "",
          "",
          "",
          "",
          "",
          "",
          "",
          "",
          "",
          "",
          "",
          "",
          "",
          "",
          "",
          "",
          "",
          "",
          "",
          "",
          "",
          "",
          "",
          "",
          "",
          "",
          "",
          "",
          "",
          "",
          "",
          "",
          "",
          "",
          "",
          "",
          "",
          "",
          "",
          "",
          "",
          "",
          "",
          "",
          "",
          "",
          "",
          "",
          "",
          "",
          "",
          "",
          "",
          "",
          "",
          "",
          "",
          "",
          "",
          "",
          "",
          "",
          "",
          "",
          "",
          "",
          "",
          "",
          "",
          "",
          "",
          "",
          "",
          "",
          "",
          "",
          "",
          "",
          "",
          "",
          "",
          "",
          "",
          "",
          "",
          "",
          "",
          "",
          "",
          "",
          "",
          "",
          "",
          "",
          "",
          "",
          "",
          "",
          "",
          "",
          "",
          "",
          "",
          "",
          "",
          "",
          "",
          "",
          "",
          "",
          "",
          "",
          "",
          "",
          "",
          "",
          "",
          "",
          "",
          "",
          "",
          "",
          "",
          "",
          "",
          "",
          "",
          "",
          "",
          "",
          "",
          "",
          "",
          "",
          "",
          "",
          "",
          "",
          "",
          "",
          "",
          "",
          "",
          "",
          "",
          "",
          "",
          "",
          "",
          "",
          "",
          "",
          "",
          "",
          "",
          "",
          "",
          "",
          "",
          "",
          "",
          "",
          "",
          "",
          "",
          "",
          "",
          "",
          "",
          "",
          "",
          "",
          "",
          "",
          ""
         ],
         "textinfo": "label",
         "type": "treemap",
         "values": [
          808,
          602,
          532,
          20760,
          4870,
          551,
          11013,
          2046,
          557,
          954,
          918,
          758,
          1184,
          3427,
          17404,
          1228,
          837,
          813,
          3882,
          1015,
          3248,
          1067,
          2688,
          568,
          2143,
          4722,
          541,
          1203,
          653,
          661,
          920,
          666,
          3813,
          3792,
          4443,
          774,
          866,
          1029,
          44710,
          585,
          1420,
          567,
          786,
          531,
          1146,
          841,
          764,
          537,
          595,
          809,
          2305,
          826,
          1082,
          1057,
          1036,
          561,
          907,
          9218,
          2935,
          611,
          1227,
          581,
          579,
          564,
          1526,
          625,
          567,
          974,
          1533,
          1665,
          820,
          918,
          787,
          817,
          959,
          2238,
          3422,
          943,
          1427,
          556,
          3750,
          880,
          12948,
          2476,
          1867,
          9586,
          544,
          644,
          916,
          15160,
          14065,
          4573,
          740,
          527,
          3411,
          1299,
          927,
          573,
          2864,
          631,
          564,
          596,
          1306,
          746,
          548,
          3327,
          548,
          711,
          2363,
          830,
          806,
          3966,
          857,
          2106,
          622,
          1119,
          3593,
          1876,
          13962,
          6009,
          1721,
          871,
          7023,
          622,
          2286,
          620,
          1391,
          2170,
          725,
          1323,
          601,
          591,
          913,
          1156,
          562,
          894,
          728,
          672,
          760,
          1312,
          874,
          2719,
          1896,
          626,
          808,
          735,
          762,
          690,
          875,
          663,
          1153,
          6157,
          28261,
          1034,
          572,
          773,
          961,
          597,
          1171,
          619,
          694,
          1487,
          7575,
          1517,
          24421,
          624,
          722,
          790,
          740,
          730,
          757,
          1407,
          862,
          1724,
          880,
          1749,
          964,
          564,
          2551,
          932,
          3108,
          959,
          773,
          3981,
          1458,
          635,
          847,
          1038,
          1009,
          3599,
          7619,
          996,
          1034,
          1389,
          2544,
          842,
          574,
          542,
          6607,
          2372
         ]
        }
       ],
       "layout": {
        "height": 800,
        "legend": {
         "tracegroupgap": 0
        },
        "margin": {
         "b": 20,
         "l": 20,
         "r": 20,
         "t": 50
        },
        "template": {
         "data": {
          "bar": [
           {
            "error_x": {
             "color": "#2a3f5f"
            },
            "error_y": {
             "color": "#2a3f5f"
            },
            "marker": {
             "line": {
              "color": "#E5ECF6",
              "width": 0.5
             },
             "pattern": {
              "fillmode": "overlay",
              "size": 10,
              "solidity": 0.2
             }
            },
            "type": "bar"
           }
          ],
          "barpolar": [
           {
            "marker": {
             "line": {
              "color": "#E5ECF6",
              "width": 0.5
             },
             "pattern": {
              "fillmode": "overlay",
              "size": 10,
              "solidity": 0.2
             }
            },
            "type": "barpolar"
           }
          ],
          "carpet": [
           {
            "aaxis": {
             "endlinecolor": "#2a3f5f",
             "gridcolor": "white",
             "linecolor": "white",
             "minorgridcolor": "white",
             "startlinecolor": "#2a3f5f"
            },
            "baxis": {
             "endlinecolor": "#2a3f5f",
             "gridcolor": "white",
             "linecolor": "white",
             "minorgridcolor": "white",
             "startlinecolor": "#2a3f5f"
            },
            "type": "carpet"
           }
          ],
          "choropleth": [
           {
            "colorbar": {
             "outlinewidth": 0,
             "ticks": ""
            },
            "type": "choropleth"
           }
          ],
          "contour": [
           {
            "colorbar": {
             "outlinewidth": 0,
             "ticks": ""
            },
            "colorscale": [
             [
              0,
              "#0d0887"
             ],
             [
              0.1111111111111111,
              "#46039f"
             ],
             [
              0.2222222222222222,
              "#7201a8"
             ],
             [
              0.3333333333333333,
              "#9c179e"
             ],
             [
              0.4444444444444444,
              "#bd3786"
             ],
             [
              0.5555555555555556,
              "#d8576b"
             ],
             [
              0.6666666666666666,
              "#ed7953"
             ],
             [
              0.7777777777777778,
              "#fb9f3a"
             ],
             [
              0.8888888888888888,
              "#fdca26"
             ],
             [
              1,
              "#f0f921"
             ]
            ],
            "type": "contour"
           }
          ],
          "contourcarpet": [
           {
            "colorbar": {
             "outlinewidth": 0,
             "ticks": ""
            },
            "type": "contourcarpet"
           }
          ],
          "heatmap": [
           {
            "colorbar": {
             "outlinewidth": 0,
             "ticks": ""
            },
            "colorscale": [
             [
              0,
              "#0d0887"
             ],
             [
              0.1111111111111111,
              "#46039f"
             ],
             [
              0.2222222222222222,
              "#7201a8"
             ],
             [
              0.3333333333333333,
              "#9c179e"
             ],
             [
              0.4444444444444444,
              "#bd3786"
             ],
             [
              0.5555555555555556,
              "#d8576b"
             ],
             [
              0.6666666666666666,
              "#ed7953"
             ],
             [
              0.7777777777777778,
              "#fb9f3a"
             ],
             [
              0.8888888888888888,
              "#fdca26"
             ],
             [
              1,
              "#f0f921"
             ]
            ],
            "type": "heatmap"
           }
          ],
          "heatmapgl": [
           {
            "colorbar": {
             "outlinewidth": 0,
             "ticks": ""
            },
            "colorscale": [
             [
              0,
              "#0d0887"
             ],
             [
              0.1111111111111111,
              "#46039f"
             ],
             [
              0.2222222222222222,
              "#7201a8"
             ],
             [
              0.3333333333333333,
              "#9c179e"
             ],
             [
              0.4444444444444444,
              "#bd3786"
             ],
             [
              0.5555555555555556,
              "#d8576b"
             ],
             [
              0.6666666666666666,
              "#ed7953"
             ],
             [
              0.7777777777777778,
              "#fb9f3a"
             ],
             [
              0.8888888888888888,
              "#fdca26"
             ],
             [
              1,
              "#f0f921"
             ]
            ],
            "type": "heatmapgl"
           }
          ],
          "histogram": [
           {
            "marker": {
             "pattern": {
              "fillmode": "overlay",
              "size": 10,
              "solidity": 0.2
             }
            },
            "type": "histogram"
           }
          ],
          "histogram2d": [
           {
            "colorbar": {
             "outlinewidth": 0,
             "ticks": ""
            },
            "colorscale": [
             [
              0,
              "#0d0887"
             ],
             [
              0.1111111111111111,
              "#46039f"
             ],
             [
              0.2222222222222222,
              "#7201a8"
             ],
             [
              0.3333333333333333,
              "#9c179e"
             ],
             [
              0.4444444444444444,
              "#bd3786"
             ],
             [
              0.5555555555555556,
              "#d8576b"
             ],
             [
              0.6666666666666666,
              "#ed7953"
             ],
             [
              0.7777777777777778,
              "#fb9f3a"
             ],
             [
              0.8888888888888888,
              "#fdca26"
             ],
             [
              1,
              "#f0f921"
             ]
            ],
            "type": "histogram2d"
           }
          ],
          "histogram2dcontour": [
           {
            "colorbar": {
             "outlinewidth": 0,
             "ticks": ""
            },
            "colorscale": [
             [
              0,
              "#0d0887"
             ],
             [
              0.1111111111111111,
              "#46039f"
             ],
             [
              0.2222222222222222,
              "#7201a8"
             ],
             [
              0.3333333333333333,
              "#9c179e"
             ],
             [
              0.4444444444444444,
              "#bd3786"
             ],
             [
              0.5555555555555556,
              "#d8576b"
             ],
             [
              0.6666666666666666,
              "#ed7953"
             ],
             [
              0.7777777777777778,
              "#fb9f3a"
             ],
             [
              0.8888888888888888,
              "#fdca26"
             ],
             [
              1,
              "#f0f921"
             ]
            ],
            "type": "histogram2dcontour"
           }
          ],
          "mesh3d": [
           {
            "colorbar": {
             "outlinewidth": 0,
             "ticks": ""
            },
            "type": "mesh3d"
           }
          ],
          "parcoords": [
           {
            "line": {
             "colorbar": {
              "outlinewidth": 0,
              "ticks": ""
             }
            },
            "type": "parcoords"
           }
          ],
          "pie": [
           {
            "automargin": true,
            "type": "pie"
           }
          ],
          "scatter": [
           {
            "fillpattern": {
             "fillmode": "overlay",
             "size": 10,
             "solidity": 0.2
            },
            "type": "scatter"
           }
          ],
          "scatter3d": [
           {
            "line": {
             "colorbar": {
              "outlinewidth": 0,
              "ticks": ""
             }
            },
            "marker": {
             "colorbar": {
              "outlinewidth": 0,
              "ticks": ""
             }
            },
            "type": "scatter3d"
           }
          ],
          "scattercarpet": [
           {
            "marker": {
             "colorbar": {
              "outlinewidth": 0,
              "ticks": ""
             }
            },
            "type": "scattercarpet"
           }
          ],
          "scattergeo": [
           {
            "marker": {
             "colorbar": {
              "outlinewidth": 0,
              "ticks": ""
             }
            },
            "type": "scattergeo"
           }
          ],
          "scattergl": [
           {
            "marker": {
             "colorbar": {
              "outlinewidth": 0,
              "ticks": ""
             }
            },
            "type": "scattergl"
           }
          ],
          "scattermapbox": [
           {
            "marker": {
             "colorbar": {
              "outlinewidth": 0,
              "ticks": ""
             }
            },
            "type": "scattermapbox"
           }
          ],
          "scatterpolar": [
           {
            "marker": {
             "colorbar": {
              "outlinewidth": 0,
              "ticks": ""
             }
            },
            "type": "scatterpolar"
           }
          ],
          "scatterpolargl": [
           {
            "marker": {
             "colorbar": {
              "outlinewidth": 0,
              "ticks": ""
             }
            },
            "type": "scatterpolargl"
           }
          ],
          "scatterternary": [
           {
            "marker": {
             "colorbar": {
              "outlinewidth": 0,
              "ticks": ""
             }
            },
            "type": "scatterternary"
           }
          ],
          "surface": [
           {
            "colorbar": {
             "outlinewidth": 0,
             "ticks": ""
            },
            "colorscale": [
             [
              0,
              "#0d0887"
             ],
             [
              0.1111111111111111,
              "#46039f"
             ],
             [
              0.2222222222222222,
              "#7201a8"
             ],
             [
              0.3333333333333333,
              "#9c179e"
             ],
             [
              0.4444444444444444,
              "#bd3786"
             ],
             [
              0.5555555555555556,
              "#d8576b"
             ],
             [
              0.6666666666666666,
              "#ed7953"
             ],
             [
              0.7777777777777778,
              "#fb9f3a"
             ],
             [
              0.8888888888888888,
              "#fdca26"
             ],
             [
              1,
              "#f0f921"
             ]
            ],
            "type": "surface"
           }
          ],
          "table": [
           {
            "cells": {
             "fill": {
              "color": "#EBF0F8"
             },
             "line": {
              "color": "white"
             }
            },
            "header": {
             "fill": {
              "color": "#C8D4E3"
             },
             "line": {
              "color": "white"
             }
            },
            "type": "table"
           }
          ]
         },
         "layout": {
          "annotationdefaults": {
           "arrowcolor": "#2a3f5f",
           "arrowhead": 0,
           "arrowwidth": 1
          },
          "autotypenumbers": "strict",
          "coloraxis": {
           "colorbar": {
            "outlinewidth": 0,
            "ticks": ""
           }
          },
          "colorscale": {
           "diverging": [
            [
             0,
             "#8e0152"
            ],
            [
             0.1,
             "#c51b7d"
            ],
            [
             0.2,
             "#de77ae"
            ],
            [
             0.3,
             "#f1b6da"
            ],
            [
             0.4,
             "#fde0ef"
            ],
            [
             0.5,
             "#f7f7f7"
            ],
            [
             0.6,
             "#e6f5d0"
            ],
            [
             0.7,
             "#b8e186"
            ],
            [
             0.8,
             "#7fbc41"
            ],
            [
             0.9,
             "#4d9221"
            ],
            [
             1,
             "#276419"
            ]
           ],
           "sequential": [
            [
             0,
             "#0d0887"
            ],
            [
             0.1111111111111111,
             "#46039f"
            ],
            [
             0.2222222222222222,
             "#7201a8"
            ],
            [
             0.3333333333333333,
             "#9c179e"
            ],
            [
             0.4444444444444444,
             "#bd3786"
            ],
            [
             0.5555555555555556,
             "#d8576b"
            ],
            [
             0.6666666666666666,
             "#ed7953"
            ],
            [
             0.7777777777777778,
             "#fb9f3a"
            ],
            [
             0.8888888888888888,
             "#fdca26"
            ],
            [
             1,
             "#f0f921"
            ]
           ],
           "sequentialminus": [
            [
             0,
             "#0d0887"
            ],
            [
             0.1111111111111111,
             "#46039f"
            ],
            [
             0.2222222222222222,
             "#7201a8"
            ],
            [
             0.3333333333333333,
             "#9c179e"
            ],
            [
             0.4444444444444444,
             "#bd3786"
            ],
            [
             0.5555555555555556,
             "#d8576b"
            ],
            [
             0.6666666666666666,
             "#ed7953"
            ],
            [
             0.7777777777777778,
             "#fb9f3a"
            ],
            [
             0.8888888888888888,
             "#fdca26"
            ],
            [
             1,
             "#f0f921"
            ]
           ]
          },
          "colorway": [
           "#636efa",
           "#EF553B",
           "#00cc96",
           "#ab63fa",
           "#FFA15A",
           "#19d3f3",
           "#FF6692",
           "#B6E880",
           "#FF97FF",
           "#FECB52"
          ],
          "font": {
           "color": "#2a3f5f"
          },
          "geo": {
           "bgcolor": "white",
           "lakecolor": "white",
           "landcolor": "#E5ECF6",
           "showlakes": true,
           "showland": true,
           "subunitcolor": "white"
          },
          "hoverlabel": {
           "align": "left"
          },
          "hovermode": "closest",
          "mapbox": {
           "style": "light"
          },
          "paper_bgcolor": "white",
          "plot_bgcolor": "#E5ECF6",
          "polar": {
           "angularaxis": {
            "gridcolor": "white",
            "linecolor": "white",
            "ticks": ""
           },
           "bgcolor": "#E5ECF6",
           "radialaxis": {
            "gridcolor": "white",
            "linecolor": "white",
            "ticks": ""
           }
          },
          "scene": {
           "xaxis": {
            "backgroundcolor": "#E5ECF6",
            "gridcolor": "white",
            "gridwidth": 2,
            "linecolor": "white",
            "showbackground": true,
            "ticks": "",
            "zerolinecolor": "white"
           },
           "yaxis": {
            "backgroundcolor": "#E5ECF6",
            "gridcolor": "white",
            "gridwidth": 2,
            "linecolor": "white",
            "showbackground": true,
            "ticks": "",
            "zerolinecolor": "white"
           },
           "zaxis": {
            "backgroundcolor": "#E5ECF6",
            "gridcolor": "white",
            "gridwidth": 2,
            "linecolor": "white",
            "showbackground": true,
            "ticks": "",
            "zerolinecolor": "white"
           }
          },
          "shapedefaults": {
           "line": {
            "color": "#2a3f5f"
           }
          },
          "ternary": {
           "aaxis": {
            "gridcolor": "white",
            "linecolor": "white",
            "ticks": ""
           },
           "baxis": {
            "gridcolor": "white",
            "linecolor": "white",
            "ticks": ""
           },
           "bgcolor": "#E5ECF6",
           "caxis": {
            "gridcolor": "white",
            "linecolor": "white",
            "ticks": ""
           }
          },
          "title": {
           "x": 0.05
          },
          "xaxis": {
           "automargin": true,
           "gridcolor": "white",
           "linecolor": "white",
           "ticks": "",
           "title": {
            "standoff": 15
           },
           "zerolinecolor": "white",
           "zerolinewidth": 2
          },
          "yaxis": {
           "automargin": true,
           "gridcolor": "white",
           "linecolor": "white",
           "ticks": "",
           "title": {
            "standoff": 15
           },
           "zerolinecolor": "white",
           "zerolinewidth": 2
          }
         }
        },
        "title": {
         "text": "Treemap of the 200 Most Frequent Words in the Corpus"
        },
        "width": 1000
       }
      },
      "text/html": [
       "<div>                            <div id=\"24e014db-e789-462a-aeed-e531795a158a\" class=\"plotly-graph-div\" style=\"height:800px; width:1000px;\"></div>            <script type=\"text/javascript\">                require([\"plotly\"], function(Plotly) {                    window.PLOTLYENV=window.PLOTLYENV || {};                                    if (document.getElementById(\"24e014db-e789-462a-aeed-e531795a158a\")) {                    Plotly.newPlot(                        \"24e014db-e789-462a-aeed-e531795a158a\",                        [{\"branchvalues\":\"total\",\"domain\":{\"x\":[0.0,1.0],\"y\":[0.0,1.0]},\"hovertemplate\":\"<b>%{label}</b><br>Count: %{value}\",\"ids\":[\"1\",\"2\",\"3\",\"a\",\"about\",\"after\",\"ai\",\"all\",\"already\",\"also\",\"am\",\"amazing\",\"amp\",\"an\",\"and\",\"answer\",\"answers\",\"any\",\"are\",\"artificialintelligence\",\"as\",\"ask\",\"asked\",\"asking\",\"at\",\"be\",\"because\",\"been\",\"being\",\"best\",\"better\",\"bot\",\"but\",\"by\",\"can\",\"cant\",\"chat\",\"chatbot\",\"chatgpt\",\"check\",\"code\",\"come\",\"content\",\"conversation\",\"could\",\"create\",\"data\",\"day\",\"days\",\"did\",\"do\",\"does\",\"dont\",\"elonmusk\",\"even\",\"few\",\"first\",\"for\",\"from\",\"fun\",\"future\",\"game\",\"generate\",\"generated\",\"get\",\"give\",\"go\",\"going\",\"good\",\"google\",\"got\",\"gpt\",\"gpt3\",\"great\",\"had\",\"has\",\"have\",\"help\",\"here\",\"heres\",\"how\",\"human\",\"i\",\"if\",\"im\",\"in\",\"intelligence\",\"interesting\",\"into\",\"is\",\"it\",\"its\",\"ive\",\"job\",\"just\",\"know\",\"language\",\"learning\",\"like\",\"lot\",\"love\",\"made\",\"make\",\"many\",\"may\",\"me\",\"midjourney\",\"model\",\"more\",\"most\",\"much\",\"my\",\"need\",\"new\",\"next\",\"no\",\"not\",\"now\",\"of\",\"on\",\"one\",\"only\",\"openai\",\"openais\",\"or\",\"other\",\"our\",\"out\",\"over\",\"people\",\"pretty\",\"prompt\",\"question\",\"questions\",\"read\",\"really\",\"right\",\"say\",\"search\",\"see\",\"should\",\"so\",\"some\",\"something\",\"still\",\"story\",\"take\",\"tech\",\"technology\",\"text\",\"than\",\"that\",\"the\",\"their\",\"them\",\"then\",\"there\",\"these\",\"they\",\"thing\",\"things\",\"think\",\"this\",\"time\",\"to\",\"today\",\"too\",\"tool\",\"tried\",\"try\",\"twitter\",\"up\",\"us\",\"use\",\"used\",\"using\",\"very\",\"want\",\"was\",\"way\",\"we\",\"well\",\"were\",\"what\",\"when\",\"where\",\"which\",\"who\",\"why\",\"will\",\"with\",\"work\",\"world\",\"would\",\"write\",\"writing\",\"written\",\"years\",\"you\",\"your\"],\"labels\":[\"1\",\"2\",\"3\",\"a\",\"about\",\"after\",\"ai\",\"all\",\"already\",\"also\",\"am\",\"amazing\",\"amp\",\"an\",\"and\",\"answer\",\"answers\",\"any\",\"are\",\"artificialintelligence\",\"as\",\"ask\",\"asked\",\"asking\",\"at\",\"be\",\"because\",\"been\",\"being\",\"best\",\"better\",\"bot\",\"but\",\"by\",\"can\",\"cant\",\"chat\",\"chatbot\",\"chatgpt\",\"check\",\"code\",\"come\",\"content\",\"conversation\",\"could\",\"create\",\"data\",\"day\",\"days\",\"did\",\"do\",\"does\",\"dont\",\"elonmusk\",\"even\",\"few\",\"first\",\"for\",\"from\",\"fun\",\"future\",\"game\",\"generate\",\"generated\",\"get\",\"give\",\"go\",\"going\",\"good\",\"google\",\"got\",\"gpt\",\"gpt3\",\"great\",\"had\",\"has\",\"have\",\"help\",\"here\",\"heres\",\"how\",\"human\",\"i\",\"if\",\"im\",\"in\",\"intelligence\",\"interesting\",\"into\",\"is\",\"it\",\"its\",\"ive\",\"job\",\"just\",\"know\",\"language\",\"learning\",\"like\",\"lot\",\"love\",\"made\",\"make\",\"many\",\"may\",\"me\",\"midjourney\",\"model\",\"more\",\"most\",\"much\",\"my\",\"need\",\"new\",\"next\",\"no\",\"not\",\"now\",\"of\",\"on\",\"one\",\"only\",\"openai\",\"openais\",\"or\",\"other\",\"our\",\"out\",\"over\",\"people\",\"pretty\",\"prompt\",\"question\",\"questions\",\"read\",\"really\",\"right\",\"say\",\"search\",\"see\",\"should\",\"so\",\"some\",\"something\",\"still\",\"story\",\"take\",\"tech\",\"technology\",\"text\",\"than\",\"that\",\"the\",\"their\",\"them\",\"then\",\"there\",\"these\",\"they\",\"thing\",\"things\",\"think\",\"this\",\"time\",\"to\",\"today\",\"too\",\"tool\",\"tried\",\"try\",\"twitter\",\"up\",\"us\",\"use\",\"used\",\"using\",\"very\",\"want\",\"was\",\"way\",\"we\",\"well\",\"were\",\"what\",\"when\",\"where\",\"which\",\"who\",\"why\",\"will\",\"with\",\"work\",\"world\",\"would\",\"write\",\"writing\",\"written\",\"years\",\"you\",\"your\"],\"name\":\"\",\"parents\":[\"\",\"\",\"\",\"\",\"\",\"\",\"\",\"\",\"\",\"\",\"\",\"\",\"\",\"\",\"\",\"\",\"\",\"\",\"\",\"\",\"\",\"\",\"\",\"\",\"\",\"\",\"\",\"\",\"\",\"\",\"\",\"\",\"\",\"\",\"\",\"\",\"\",\"\",\"\",\"\",\"\",\"\",\"\",\"\",\"\",\"\",\"\",\"\",\"\",\"\",\"\",\"\",\"\",\"\",\"\",\"\",\"\",\"\",\"\",\"\",\"\",\"\",\"\",\"\",\"\",\"\",\"\",\"\",\"\",\"\",\"\",\"\",\"\",\"\",\"\",\"\",\"\",\"\",\"\",\"\",\"\",\"\",\"\",\"\",\"\",\"\",\"\",\"\",\"\",\"\",\"\",\"\",\"\",\"\",\"\",\"\",\"\",\"\",\"\",\"\",\"\",\"\",\"\",\"\",\"\",\"\",\"\",\"\",\"\",\"\",\"\",\"\",\"\",\"\",\"\",\"\",\"\",\"\",\"\",\"\",\"\",\"\",\"\",\"\",\"\",\"\",\"\",\"\",\"\",\"\",\"\",\"\",\"\",\"\",\"\",\"\",\"\",\"\",\"\",\"\",\"\",\"\",\"\",\"\",\"\",\"\",\"\",\"\",\"\",\"\",\"\",\"\",\"\",\"\",\"\",\"\",\"\",\"\",\"\",\"\",\"\",\"\",\"\",\"\",\"\",\"\",\"\",\"\",\"\",\"\",\"\",\"\",\"\",\"\",\"\",\"\",\"\",\"\",\"\",\"\",\"\",\"\",\"\",\"\",\"\",\"\",\"\",\"\",\"\",\"\",\"\",\"\",\"\",\"\",\"\",\"\",\"\",\"\",\"\",\"\"],\"values\":[808,602,532,20760,4870,551,11013,2046,557,954,918,758,1184,3427,17404,1228,837,813,3882,1015,3248,1067,2688,568,2143,4722,541,1203,653,661,920,666,3813,3792,4443,774,866,1029,44710,585,1420,567,786,531,1146,841,764,537,595,809,2305,826,1082,1057,1036,561,907,9218,2935,611,1227,581,579,564,1526,625,567,974,1533,1665,820,918,787,817,959,2238,3422,943,1427,556,3750,880,12948,2476,1867,9586,544,644,916,15160,14065,4573,740,527,3411,1299,927,573,2864,631,564,596,1306,746,548,3327,548,711,2363,830,806,3966,857,2106,622,1119,3593,1876,13962,6009,1721,871,7023,622,2286,620,1391,2170,725,1323,601,591,913,1156,562,894,728,672,760,1312,874,2719,1896,626,808,735,762,690,875,663,1153,6157,28261,1034,572,773,961,597,1171,619,694,1487,7575,1517,24421,624,722,790,740,730,757,1407,862,1724,880,1749,964,564,2551,932,3108,959,773,3981,1458,635,847,1038,1009,3599,7619,996,1034,1389,2544,842,574,542,6607,2372],\"type\":\"treemap\",\"marker\":{\"colorscale\":[[0.0,\"#440154\"],[0.1111111111111111,\"#482878\"],[0.2222222222222222,\"#3e4989\"],[0.3333333333333333,\"#31688e\"],[0.4444444444444444,\"#26828e\"],[0.5555555555555556,\"#1f9e89\"],[0.6666666666666666,\"#35b779\"],[0.7777777777777778,\"#6ece58\"],[0.8888888888888888,\"#b5de2b\"],[1.0,\"#fde725\"]]},\"textinfo\":\"label\"}],                        {\"template\":{\"data\":{\"histogram2dcontour\":[{\"type\":\"histogram2dcontour\",\"colorbar\":{\"outlinewidth\":0,\"ticks\":\"\"},\"colorscale\":[[0.0,\"#0d0887\"],[0.1111111111111111,\"#46039f\"],[0.2222222222222222,\"#7201a8\"],[0.3333333333333333,\"#9c179e\"],[0.4444444444444444,\"#bd3786\"],[0.5555555555555556,\"#d8576b\"],[0.6666666666666666,\"#ed7953\"],[0.7777777777777778,\"#fb9f3a\"],[0.8888888888888888,\"#fdca26\"],[1.0,\"#f0f921\"]]}],\"choropleth\":[{\"type\":\"choropleth\",\"colorbar\":{\"outlinewidth\":0,\"ticks\":\"\"}}],\"histogram2d\":[{\"type\":\"histogram2d\",\"colorbar\":{\"outlinewidth\":0,\"ticks\":\"\"},\"colorscale\":[[0.0,\"#0d0887\"],[0.1111111111111111,\"#46039f\"],[0.2222222222222222,\"#7201a8\"],[0.3333333333333333,\"#9c179e\"],[0.4444444444444444,\"#bd3786\"],[0.5555555555555556,\"#d8576b\"],[0.6666666666666666,\"#ed7953\"],[0.7777777777777778,\"#fb9f3a\"],[0.8888888888888888,\"#fdca26\"],[1.0,\"#f0f921\"]]}],\"heatmap\":[{\"type\":\"heatmap\",\"colorbar\":{\"outlinewidth\":0,\"ticks\":\"\"},\"colorscale\":[[0.0,\"#0d0887\"],[0.1111111111111111,\"#46039f\"],[0.2222222222222222,\"#7201a8\"],[0.3333333333333333,\"#9c179e\"],[0.4444444444444444,\"#bd3786\"],[0.5555555555555556,\"#d8576b\"],[0.6666666666666666,\"#ed7953\"],[0.7777777777777778,\"#fb9f3a\"],[0.8888888888888888,\"#fdca26\"],[1.0,\"#f0f921\"]]}],\"heatmapgl\":[{\"type\":\"heatmapgl\",\"colorbar\":{\"outlinewidth\":0,\"ticks\":\"\"},\"colorscale\":[[0.0,\"#0d0887\"],[0.1111111111111111,\"#46039f\"],[0.2222222222222222,\"#7201a8\"],[0.3333333333333333,\"#9c179e\"],[0.4444444444444444,\"#bd3786\"],[0.5555555555555556,\"#d8576b\"],[0.6666666666666666,\"#ed7953\"],[0.7777777777777778,\"#fb9f3a\"],[0.8888888888888888,\"#fdca26\"],[1.0,\"#f0f921\"]]}],\"contourcarpet\":[{\"type\":\"contourcarpet\",\"colorbar\":{\"outlinewidth\":0,\"ticks\":\"\"}}],\"contour\":[{\"type\":\"contour\",\"colorbar\":{\"outlinewidth\":0,\"ticks\":\"\"},\"colorscale\":[[0.0,\"#0d0887\"],[0.1111111111111111,\"#46039f\"],[0.2222222222222222,\"#7201a8\"],[0.3333333333333333,\"#9c179e\"],[0.4444444444444444,\"#bd3786\"],[0.5555555555555556,\"#d8576b\"],[0.6666666666666666,\"#ed7953\"],[0.7777777777777778,\"#fb9f3a\"],[0.8888888888888888,\"#fdca26\"],[1.0,\"#f0f921\"]]}],\"surface\":[{\"type\":\"surface\",\"colorbar\":{\"outlinewidth\":0,\"ticks\":\"\"},\"colorscale\":[[0.0,\"#0d0887\"],[0.1111111111111111,\"#46039f\"],[0.2222222222222222,\"#7201a8\"],[0.3333333333333333,\"#9c179e\"],[0.4444444444444444,\"#bd3786\"],[0.5555555555555556,\"#d8576b\"],[0.6666666666666666,\"#ed7953\"],[0.7777777777777778,\"#fb9f3a\"],[0.8888888888888888,\"#fdca26\"],[1.0,\"#f0f921\"]]}],\"mesh3d\":[{\"type\":\"mesh3d\",\"colorbar\":{\"outlinewidth\":0,\"ticks\":\"\"}}],\"scatter\":[{\"fillpattern\":{\"fillmode\":\"overlay\",\"size\":10,\"solidity\":0.2},\"type\":\"scatter\"}],\"parcoords\":[{\"type\":\"parcoords\",\"line\":{\"colorbar\":{\"outlinewidth\":0,\"ticks\":\"\"}}}],\"scatterpolargl\":[{\"type\":\"scatterpolargl\",\"marker\":{\"colorbar\":{\"outlinewidth\":0,\"ticks\":\"\"}}}],\"bar\":[{\"error_x\":{\"color\":\"#2a3f5f\"},\"error_y\":{\"color\":\"#2a3f5f\"},\"marker\":{\"line\":{\"color\":\"#E5ECF6\",\"width\":0.5},\"pattern\":{\"fillmode\":\"overlay\",\"size\":10,\"solidity\":0.2}},\"type\":\"bar\"}],\"scattergeo\":[{\"type\":\"scattergeo\",\"marker\":{\"colorbar\":{\"outlinewidth\":0,\"ticks\":\"\"}}}],\"scatterpolar\":[{\"type\":\"scatterpolar\",\"marker\":{\"colorbar\":{\"outlinewidth\":0,\"ticks\":\"\"}}}],\"histogram\":[{\"marker\":{\"pattern\":{\"fillmode\":\"overlay\",\"size\":10,\"solidity\":0.2}},\"type\":\"histogram\"}],\"scattergl\":[{\"type\":\"scattergl\",\"marker\":{\"colorbar\":{\"outlinewidth\":0,\"ticks\":\"\"}}}],\"scatter3d\":[{\"type\":\"scatter3d\",\"line\":{\"colorbar\":{\"outlinewidth\":0,\"ticks\":\"\"}},\"marker\":{\"colorbar\":{\"outlinewidth\":0,\"ticks\":\"\"}}}],\"scattermapbox\":[{\"type\":\"scattermapbox\",\"marker\":{\"colorbar\":{\"outlinewidth\":0,\"ticks\":\"\"}}}],\"scatterternary\":[{\"type\":\"scatterternary\",\"marker\":{\"colorbar\":{\"outlinewidth\":0,\"ticks\":\"\"}}}],\"scattercarpet\":[{\"type\":\"scattercarpet\",\"marker\":{\"colorbar\":{\"outlinewidth\":0,\"ticks\":\"\"}}}],\"carpet\":[{\"aaxis\":{\"endlinecolor\":\"#2a3f5f\",\"gridcolor\":\"white\",\"linecolor\":\"white\",\"minorgridcolor\":\"white\",\"startlinecolor\":\"#2a3f5f\"},\"baxis\":{\"endlinecolor\":\"#2a3f5f\",\"gridcolor\":\"white\",\"linecolor\":\"white\",\"minorgridcolor\":\"white\",\"startlinecolor\":\"#2a3f5f\"},\"type\":\"carpet\"}],\"table\":[{\"cells\":{\"fill\":{\"color\":\"#EBF0F8\"},\"line\":{\"color\":\"white\"}},\"header\":{\"fill\":{\"color\":\"#C8D4E3\"},\"line\":{\"color\":\"white\"}},\"type\":\"table\"}],\"barpolar\":[{\"marker\":{\"line\":{\"color\":\"#E5ECF6\",\"width\":0.5},\"pattern\":{\"fillmode\":\"overlay\",\"size\":10,\"solidity\":0.2}},\"type\":\"barpolar\"}],\"pie\":[{\"automargin\":true,\"type\":\"pie\"}]},\"layout\":{\"autotypenumbers\":\"strict\",\"colorway\":[\"#636efa\",\"#EF553B\",\"#00cc96\",\"#ab63fa\",\"#FFA15A\",\"#19d3f3\",\"#FF6692\",\"#B6E880\",\"#FF97FF\",\"#FECB52\"],\"font\":{\"color\":\"#2a3f5f\"},\"hovermode\":\"closest\",\"hoverlabel\":{\"align\":\"left\"},\"paper_bgcolor\":\"white\",\"plot_bgcolor\":\"#E5ECF6\",\"polar\":{\"bgcolor\":\"#E5ECF6\",\"angularaxis\":{\"gridcolor\":\"white\",\"linecolor\":\"white\",\"ticks\":\"\"},\"radialaxis\":{\"gridcolor\":\"white\",\"linecolor\":\"white\",\"ticks\":\"\"}},\"ternary\":{\"bgcolor\":\"#E5ECF6\",\"aaxis\":{\"gridcolor\":\"white\",\"linecolor\":\"white\",\"ticks\":\"\"},\"baxis\":{\"gridcolor\":\"white\",\"linecolor\":\"white\",\"ticks\":\"\"},\"caxis\":{\"gridcolor\":\"white\",\"linecolor\":\"white\",\"ticks\":\"\"}},\"coloraxis\":{\"colorbar\":{\"outlinewidth\":0,\"ticks\":\"\"}},\"colorscale\":{\"sequential\":[[0.0,\"#0d0887\"],[0.1111111111111111,\"#46039f\"],[0.2222222222222222,\"#7201a8\"],[0.3333333333333333,\"#9c179e\"],[0.4444444444444444,\"#bd3786\"],[0.5555555555555556,\"#d8576b\"],[0.6666666666666666,\"#ed7953\"],[0.7777777777777778,\"#fb9f3a\"],[0.8888888888888888,\"#fdca26\"],[1.0,\"#f0f921\"]],\"sequentialminus\":[[0.0,\"#0d0887\"],[0.1111111111111111,\"#46039f\"],[0.2222222222222222,\"#7201a8\"],[0.3333333333333333,\"#9c179e\"],[0.4444444444444444,\"#bd3786\"],[0.5555555555555556,\"#d8576b\"],[0.6666666666666666,\"#ed7953\"],[0.7777777777777778,\"#fb9f3a\"],[0.8888888888888888,\"#fdca26\"],[1.0,\"#f0f921\"]],\"diverging\":[[0,\"#8e0152\"],[0.1,\"#c51b7d\"],[0.2,\"#de77ae\"],[0.3,\"#f1b6da\"],[0.4,\"#fde0ef\"],[0.5,\"#f7f7f7\"],[0.6,\"#e6f5d0\"],[0.7,\"#b8e186\"],[0.8,\"#7fbc41\"],[0.9,\"#4d9221\"],[1,\"#276419\"]]},\"xaxis\":{\"gridcolor\":\"white\",\"linecolor\":\"white\",\"ticks\":\"\",\"title\":{\"standoff\":15},\"zerolinecolor\":\"white\",\"automargin\":true,\"zerolinewidth\":2},\"yaxis\":{\"gridcolor\":\"white\",\"linecolor\":\"white\",\"ticks\":\"\",\"title\":{\"standoff\":15},\"zerolinecolor\":\"white\",\"automargin\":true,\"zerolinewidth\":2},\"scene\":{\"xaxis\":{\"backgroundcolor\":\"#E5ECF6\",\"gridcolor\":\"white\",\"linecolor\":\"white\",\"showbackground\":true,\"ticks\":\"\",\"zerolinecolor\":\"white\",\"gridwidth\":2},\"yaxis\":{\"backgroundcolor\":\"#E5ECF6\",\"gridcolor\":\"white\",\"linecolor\":\"white\",\"showbackground\":true,\"ticks\":\"\",\"zerolinecolor\":\"white\",\"gridwidth\":2},\"zaxis\":{\"backgroundcolor\":\"#E5ECF6\",\"gridcolor\":\"white\",\"linecolor\":\"white\",\"showbackground\":true,\"ticks\":\"\",\"zerolinecolor\":\"white\",\"gridwidth\":2}},\"shapedefaults\":{\"line\":{\"color\":\"#2a3f5f\"}},\"annotationdefaults\":{\"arrowcolor\":\"#2a3f5f\",\"arrowhead\":0,\"arrowwidth\":1},\"geo\":{\"bgcolor\":\"white\",\"landcolor\":\"#E5ECF6\",\"subunitcolor\":\"white\",\"showland\":true,\"showlakes\":true,\"lakecolor\":\"white\"},\"title\":{\"x\":0.05},\"mapbox\":{\"style\":\"light\"}}},\"legend\":{\"tracegroupgap\":0},\"margin\":{\"t\":50,\"l\":20,\"r\":20,\"b\":20},\"title\":{\"text\":\"Treemap of the 200 Most Frequent Words in the Corpus\"},\"width\":1000,\"height\":800},                        {\"responsive\": true}                    ).then(function(){\n",
       "                            \n",
       "var gd = document.getElementById('24e014db-e789-462a-aeed-e531795a158a');\n",
       "var x = new MutationObserver(function (mutations, observer) {{\n",
       "        var display = window.getComputedStyle(gd).display;\n",
       "        if (!display || display === 'none') {{\n",
       "            console.log([gd, 'removed!']);\n",
       "            Plotly.purge(gd);\n",
       "            observer.disconnect();\n",
       "        }}\n",
       "}});\n",
       "\n",
       "// Listen for the removal of the full notebook cells\n",
       "var notebookContainer = gd.closest('#notebook-container');\n",
       "if (notebookContainer) {{\n",
       "    x.observe(notebookContainer, {childList: true});\n",
       "}}\n",
       "\n",
       "// Listen for the clearing of the current output cell\n",
       "var outputEl = gd.closest('.output');\n",
       "if (outputEl) {{\n",
       "    x.observe(outputEl, {childList: true});\n",
       "}}\n",
       "\n",
       "                        })                };                });            </script>        </div>"
      ]
     },
     "metadata": {},
     "output_type": "display_data"
    }
   ],
   "source": [
    "# Prepare the data for treemap\n",
    "labels = [word for word, _ in top_200_words]\n",
    "sizes = [count for _, count in top_200_words]\n",
    "\n",
    "data = {'labels': labels, 'sizes': sizes}\n",
    "df = pd.DataFrame(data)\n",
    "\n",
    "# Create the treemap\n",
    "fig = px.treemap(df, path=['labels'], values='sizes')\n",
    "\n",
    "# Customize the treemap appearance\n",
    "fig.update_traces(textinfo='label', hovertemplate='<b>%{label}</b><br>Count: %{value}', \n",
    "                  marker=dict(colorscale='viridis'))\n",
    "\n",
    "\n",
    "# Update layout\n",
    "fig.update_layout(\n",
    "    title='Treemap of the 200 Most Frequent Words in the Corpus',\n",
    "    width=1000,\n",
    "    height=800,\n",
    "    margin=dict(l=20, r=20, t=50, b=20),\n",
    ")\n",
    "\n",
    "# Show the treemap\n",
    "fig.show()\n"
   ]
  },
  {
   "cell_type": "code",
   "execution_count": 12,
   "id": "327e3b78",
   "metadata": {},
   "outputs": [
    {
     "data": {
      "image/png": "[encoded data removed]",
      "text/plain": [
       "<Figure size 1000x500 with 1 Axes>"
      ]
     },
     "metadata": {},
     "output_type": "display_data"
    }
   ],
   "source": [
    "from wordcloud import WordCloud\n",
    "import matplotlib.pyplot as plt\n",
    "\n",
    "# Create a dictionary of word frequencies for the top 200 words\n",
    "word_freq_dict = {word: count for word, count in top_200_words}\n",
    "\n",
    "# Generate the word cloud of the most frequent words\n",
    "wordcloud = WordCloud(width=1000, height=500, background_color='white').generate_from_frequencies(word_freq_dict)\n",
    "\n",
    "# Generate a word cloud\n",
    "plt.figure(figsize=(10, 5))\n",
    "plt.imshow(wordcloud, interpolation='bilinear')\n",
    "plt.axis('off')\n",
    "plt.title('Word Cloud of Most Frequent Words')\n",
    "plt.show()\n"
   ]
  },
  {
   "cell_type": "code",
   "execution_count": 13,
   "id": "b76c53a3",
   "metadata": {},
   "outputs": [
    {
     "data": {
      "image/png": "[encoded data removed]",
      "text/plain": [
       "<Figure size 800x600 with 1 Axes>"
      ]
     },
     "metadata": {},
     "output_type": "display_data"
    }
   ],
   "source": [
    "# Calculate the ranks of the words\n",
    "ranks = list(range(1, len(top_200_words) + 1))\n",
    "\n",
    "# Calculate the log of word frequencies\n",
    "log_freq = [math.log10(freq) for freq in sizes]\n",
    "\n",
    "# Plot the log-frequency against the rank\n",
    "plt.figure(figsize=(8, 6))\n",
    "plt.plot(ranks, log_freq, marker='o', linestyle='-', color='#440154FF')\n",
    "plt.xlabel('Rank')\n",
    "plt.ylabel('Log Frequency')\n",
    "plt.title(\"Log Frequency of the Top 200 Words\")\n",
    "plt.show()\n"
   ]
  },
  {
   "cell_type": "markdown",
   "id": "15151f32",
   "metadata": {},
   "source": [
    "In what ways do you think the frequency of the words in this corpus differ from \"all words in all corpora\"?\n",
    "\n",
    "Here are a few possible differences in which the frequency of words in this corpus differ from \"all words in all corpora\":\n",
    "\n",
    "Domain-specific vocabulary: The corpus may contain words and terms that are specific to the keyword represented in the dataset (e.g., tweets about ChatGPT). This could result in a unique set of words that may not be commonly found in other corpora.\n",
    "\n",
    "Informal language and abbreviations: Social media texts often include informal language, slang, and abbreviations that may not be present in other corpora. This can impact the frequency distribution and composition of words.\n",
    "\n",
    "Topic-specific terminology: Depending on the subject matter of the tweets, the corpus may contain specialized terminology or jargon that is not prevalent in other corpora. This can contribute to variations in word frequencies.\n",
    "\n",
    "Length and style of the text: Tweets typically have a limited character count, leading to concise and fragmented text. This brevity and unique style may influence the frequency distribution and prevalence of certain words.\n",
    "\n"
   ]
  }
 ],
 "metadata": {
  "kernelspec": {
   "display_name": "Python 3 (ipykernel)",
   "language": "python",
   "name": "python3"
  },
  "language_info": {
   "codemirror_mode": {
    "name": "ipython",
    "version": 3
   },
   "file_extension": ".py",
   "mimetype": "text/x-python",
   "name": "python",
   "nbconvert_exporter": "python",
   "pygments_lexer": "ipython3",
   "version": "3.10.9"
  }
 },
 "nbformat": 4,
 "nbformat_minor": 5
}
